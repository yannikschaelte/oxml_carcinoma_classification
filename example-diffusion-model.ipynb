{
 "cells": [
  {
   "cell_type": "markdown",
   "id": "1889bbcb",
   "metadata": {
    "id": "z9AMzkQ-FUF7",
    "papermill": {
     "duration": 0.008729,
     "end_time": "2023-06-05T04:52:54.411895",
     "exception": false,
     "start_time": "2023-06-05T04:52:54.403166",
     "status": "completed"
    },
    "tags": []
   },
   "source": [
    "# Train a diffusion model"
   ]
  },
  {
   "cell_type": "markdown",
   "id": "2e4b0230",
   "metadata": {
    "id": "N_UbZ7BYFUF-",
    "papermill": {
     "duration": 0.007487,
     "end_time": "2023-06-05T04:52:54.427687",
     "exception": false,
     "start_time": "2023-06-05T04:52:54.420200",
     "status": "completed"
    },
    "tags": []
   },
   "source": []
  },
  {
   "cell_type": "code",
   "execution_count": 1,
   "id": "3d0b4fe0",
   "metadata": {
    "execution": {
     "iopub.execute_input": "2023-06-05T04:52:54.442998Z",
     "iopub.status.busy": "2023-06-05T04:52:54.442245Z",
     "iopub.status.idle": "2023-06-05T04:53:09.372076Z",
     "shell.execute_reply": "2023-06-05T04:53:09.371040Z"
    },
    "id": "H19g8NiAFUF_",
    "papermill": {
     "duration": 14.940162,
     "end_time": "2023-06-05T04:53:09.374719",
     "exception": false,
     "start_time": "2023-06-05T04:52:54.434557",
     "status": "completed"
    },
    "tags": []
   },
   "outputs": [
    {
     "name": "stderr",
     "output_type": "stream",
     "text": [
      "/opt/conda/lib/python3.10/site-packages/tensorflow_io/python/ops/__init__.py:98: UserWarning: unable to load libtensorflow_io_plugins.so: unable to open file: libtensorflow_io_plugins.so, from paths: ['/opt/conda/lib/python3.10/site-packages/tensorflow_io/python/ops/libtensorflow_io_plugins.so']\n",
      "caused by: ['/opt/conda/lib/python3.10/site-packages/tensorflow_io/python/ops/libtensorflow_io_plugins.so: undefined symbol: _ZN3tsl6StatusC1EN10tensorflow5error4CodeESt17basic_string_viewIcSt11char_traitsIcEENS_14SourceLocationE']\n",
      "  warnings.warn(f\"unable to load libtensorflow_io_plugins.so: {e}\")\n",
      "/opt/conda/lib/python3.10/site-packages/tensorflow_io/python/ops/__init__.py:104: UserWarning: file system plugins are not loaded: unable to open file: libtensorflow_io.so, from paths: ['/opt/conda/lib/python3.10/site-packages/tensorflow_io/python/ops/libtensorflow_io.so']\n",
      "caused by: ['/opt/conda/lib/python3.10/site-packages/tensorflow_io/python/ops/libtensorflow_io.so: undefined symbol: _ZTVN10tensorflow13GcsFileSystemE']\n",
      "  warnings.warn(f\"file system plugins are not loaded: {e}\")\n"
     ]
    }
   ],
   "source": [
    "from transformers import ImageGPTImageProcessor, ImageGPTForImageClassification\n",
    "from PIL import Image\n",
    "import requests\n",
    "from torch.utils.data import DataLoader\n",
    "import pandas as pd\n",
    "import numpy as np"
   ]
  },
  {
   "cell_type": "markdown",
   "id": "82238225",
   "metadata": {
    "papermill": {
     "duration": 0.005783,
     "end_time": "2023-06-05T04:53:09.386782",
     "exception": false,
     "start_time": "2023-06-05T04:53:09.380999",
     "status": "completed"
    },
    "tags": []
   },
   "source": [
    "# Chosen Huggingface model - ImageGPT for Image Classification (pretrained weights)\n",
    "\n",
    "Current obstacle - requires large amount of RAM"
   ]
  },
  {
   "cell_type": "code",
   "execution_count": 2,
   "id": "471592cd",
   "metadata": {
    "execution": {
     "iopub.execute_input": "2023-06-05T04:53:09.402793Z",
     "iopub.status.busy": "2023-06-05T04:53:09.401695Z",
     "iopub.status.idle": "2023-06-05T04:53:30.337544Z",
     "shell.execute_reply": "2023-06-05T04:53:30.336517Z"
    },
    "papermill": {
     "duration": 20.945606,
     "end_time": "2023-06-05T04:53:30.339837",
     "exception": false,
     "start_time": "2023-06-05T04:53:09.394231",
     "status": "completed"
    },
    "tags": []
   },
   "outputs": [
    {
     "name": "stderr",
     "output_type": "stream",
     "text": [
      "Some weights of the model checkpoint at openai/imagegpt-small were not used when initializing ImageGPTForImageClassification: ['lm_head.weight']\n",
      "- This IS expected if you are initializing ImageGPTForImageClassification from the checkpoint of a model trained on another task or with another architecture (e.g. initializing a BertForSequenceClassification model from a BertForPreTraining model).\n",
      "- This IS NOT expected if you are initializing ImageGPTForImageClassification from the checkpoint of a model that you expect to be exactly identical (initializing a BertForSequenceClassification model from a BertForSequenceClassification model).\n",
      "Some weights of ImageGPTForImageClassification were not initialized from the model checkpoint at openai/imagegpt-small and are newly initialized: ['score.weight']\n",
      "You should probably TRAIN this model on a down-stream task to be able to use it for predictions and inference.\n"
     ]
    }
   ],
   "source": [
    "%%capture\n",
    "\n",
    "image_processor = ImageGPTImageProcessor.from_pretrained(\"openai/imagegpt-small\")\n",
    "model = ImageGPTForImageClassification.from_pretrained(\"openai/imagegpt-small\",num_labels=1)\n"
   ]
  },
  {
   "cell_type": "markdown",
   "id": "24d5af91",
   "metadata": {
    "papermill": {
     "duration": 0.006118,
     "end_time": "2023-06-05T04:53:30.352854",
     "exception": false,
     "start_time": "2023-06-05T04:53:30.346736",
     "status": "completed"
    },
    "tags": []
   },
   "source": [
    "## load training and eval dataset (sampled from original csv)"
   ]
  },
  {
   "cell_type": "code",
   "execution_count": 3,
   "id": "20880086",
   "metadata": {
    "execution": {
     "iopub.execute_input": "2023-06-05T04:53:30.367667Z",
     "iopub.status.busy": "2023-06-05T04:53:30.366640Z",
     "iopub.status.idle": "2023-06-05T04:53:30.393114Z",
     "shell.execute_reply": "2023-06-05T04:53:30.392017Z"
    },
    "papermill": {
     "duration": 0.037054,
     "end_time": "2023-06-05T04:53:30.396125",
     "exception": false,
     "start_time": "2023-06-05T04:53:30.359071",
     "status": "completed"
    },
    "tags": []
   },
   "outputs": [],
   "source": [
    "info = pd.read_csv(\"../input/oxml-carinoma-classification/labels.csv\")\n",
    "training = info.sample(frac=0.05)\n",
    "eval_set = info.sample(frac=0.2)"
   ]
  },
  {
   "cell_type": "markdown",
   "id": "11154092",
   "metadata": {
    "papermill": {
     "duration": 0.006253,
     "end_time": "2023-06-05T04:53:30.409021",
     "exception": false,
     "start_time": "2023-06-05T04:53:30.402768",
     "status": "completed"
    },
    "tags": []
   },
   "source": [
    "## load into dataloaders"
   ]
  },
  {
   "cell_type": "code",
   "execution_count": 4,
   "id": "8656104c",
   "metadata": {
    "execution": {
     "iopub.execute_input": "2023-06-05T04:53:30.425804Z",
     "iopub.status.busy": "2023-06-05T04:53:30.425421Z",
     "iopub.status.idle": "2023-06-05T04:53:30.501043Z",
     "shell.execute_reply": "2023-06-05T04:53:30.499909Z"
    },
    "papermill": {
     "duration": 0.087015,
     "end_time": "2023-06-05T04:53:30.503411",
     "exception": false,
     "start_time": "2023-06-05T04:53:30.416396",
     "status": "completed"
    },
    "tags": []
   },
   "outputs": [],
   "source": [
    "training_images = [f\"../input/oxml-carinoma-classification/img_{i}.png\" for i in training[\"id\"].tolist()]\n",
    "eval_images = [f\"../input/oxml-carinoma-classification/img_{i}.png\" for i in eval_set[\"id\"].tolist()]"
   ]
  },
  {
   "cell_type": "code",
   "execution_count": 5,
   "id": "00681342",
   "metadata": {
    "execution": {
     "iopub.execute_input": "2023-06-05T04:53:30.518100Z",
     "iopub.status.busy": "2023-06-05T04:53:30.517712Z",
     "iopub.status.idle": "2023-06-05T04:53:31.159514Z",
     "shell.execute_reply": "2023-06-05T04:53:31.158306Z"
    },
    "papermill": {
     "duration": 0.653274,
     "end_time": "2023-06-05T04:53:31.163091",
     "exception": false,
     "start_time": "2023-06-05T04:53:30.509817",
     "status": "completed"
    },
    "tags": []
   },
   "outputs": [],
   "source": [
    "training_processed = [image_processor(Image.open(f), return_tensors=\"pt\") for f in training_images]\n",
    "eval_processed = [image_processor(Image.open(f), return_tensors=\"pt\") for f in eval_images]"
   ]
  },
  {
   "cell_type": "code",
   "execution_count": 6,
   "id": "d3f66573",
   "metadata": {
    "execution": {
     "iopub.execute_input": "2023-06-05T04:53:31.186379Z",
     "iopub.status.busy": "2023-06-05T04:53:31.185735Z",
     "iopub.status.idle": "2023-06-05T04:53:31.195043Z",
     "shell.execute_reply": "2023-06-05T04:53:31.193954Z"
    },
    "papermill": {
     "duration": 0.025013,
     "end_time": "2023-06-05T04:53:31.198403",
     "exception": false,
     "start_time": "2023-06-05T04:53:31.173390",
     "status": "completed"
    },
    "tags": []
   },
   "outputs": [],
   "source": [
    "train_dataloader = DataLoader(training_processed, shuffle=False, batch_size=1)\n",
    "eval_dataloader = DataLoader(eval_processed, batch_size=1)"
   ]
  },
  {
   "cell_type": "code",
   "execution_count": 7,
   "id": "86761572",
   "metadata": {
    "execution": {
     "iopub.execute_input": "2023-06-05T04:53:31.220540Z",
     "iopub.status.busy": "2023-06-05T04:53:31.220002Z",
     "iopub.status.idle": "2023-06-05T04:53:31.226381Z",
     "shell.execute_reply": "2023-06-05T04:53:31.225193Z"
    },
    "papermill": {
     "duration": 0.023312,
     "end_time": "2023-06-05T04:53:31.231739",
     "exception": false,
     "start_time": "2023-06-05T04:53:31.208427",
     "status": "completed"
    },
    "tags": []
   },
   "outputs": [],
   "source": [
    "training_labels = training[\"malignant\"].tolist()\n",
    "eval_labels = eval_set[\"malignant\"].tolist()"
   ]
  },
  {
   "cell_type": "code",
   "execution_count": 8,
   "id": "2926baea",
   "metadata": {
    "execution": {
     "iopub.execute_input": "2023-06-05T04:53:31.254543Z",
     "iopub.status.busy": "2023-06-05T04:53:31.253996Z",
     "iopub.status.idle": "2023-06-05T04:53:31.262426Z",
     "shell.execute_reply": "2023-06-05T04:53:31.261254Z"
    },
    "papermill": {
     "duration": 0.026011,
     "end_time": "2023-06-05T04:53:31.267978",
     "exception": false,
     "start_time": "2023-06-05T04:53:31.241967",
     "status": "completed"
    },
    "tags": []
   },
   "outputs": [],
   "source": [
    "from torch.optim import AdamW\n",
    "\n",
    "optimizer = AdamW(model.parameters(), lr=5e-5)"
   ]
  },
  {
   "cell_type": "markdown",
   "id": "dc8e55b0",
   "metadata": {
    "papermill": {
     "duration": 0.006123,
     "end_time": "2023-06-05T04:53:31.282736",
     "exception": false,
     "start_time": "2023-06-05T04:53:31.276613",
     "status": "completed"
    },
    "tags": []
   },
   "source": [
    "## Perform fine tuning on new dataset for 10 epochs"
   ]
  },
  {
   "cell_type": "code",
   "execution_count": 9,
   "id": "8c748597",
   "metadata": {
    "execution": {
     "iopub.execute_input": "2023-06-05T04:53:31.296782Z",
     "iopub.status.busy": "2023-06-05T04:53:31.296434Z",
     "iopub.status.idle": "2023-06-05T04:53:31.308578Z",
     "shell.execute_reply": "2023-06-05T04:53:31.307628Z"
    },
    "papermill": {
     "duration": 0.022042,
     "end_time": "2023-06-05T04:53:31.311158",
     "exception": false,
     "start_time": "2023-06-05T04:53:31.289116",
     "status": "completed"
    },
    "tags": []
   },
   "outputs": [],
   "source": [
    "from transformers import get_scheduler\n",
    "\n",
    "num_epochs = 10\n",
    "num_training_steps = num_epochs * len(train_dataloader)\n",
    "lr_scheduler = get_scheduler(\n",
    "    name=\"linear\", optimizer=optimizer, num_warmup_steps=0, num_training_steps=num_training_steps\n",
    ")"
   ]
  },
  {
   "cell_type": "code",
   "execution_count": 10,
   "id": "5606c374",
   "metadata": {
    "execution": {
     "iopub.execute_input": "2023-06-05T04:53:31.326244Z",
     "iopub.status.busy": "2023-06-05T04:53:31.325189Z",
     "iopub.status.idle": "2023-06-05T04:53:31.341031Z",
     "shell.execute_reply": "2023-06-05T04:53:31.340028Z"
    },
    "papermill": {
     "duration": 0.025837,
     "end_time": "2023-06-05T04:53:31.343321",
     "exception": false,
     "start_time": "2023-06-05T04:53:31.317484",
     "status": "completed"
    },
    "tags": []
   },
   "outputs": [
    {
     "data": {
      "text/plain": [
       "ImageGPTForImageClassification(\n",
       "  (transformer): ImageGPTModel(\n",
       "    (wte): Embedding(513, 512)\n",
       "    (wpe): Embedding(1024, 512)\n",
       "    (drop): Dropout(p=0.1, inplace=False)\n",
       "    (h): ModuleList(\n",
       "      (0-23): 24 x ImageGPTBlock(\n",
       "        (ln_1): ImageGPTLayerNorm()\n",
       "        (attn): ImageGPTAttention(\n",
       "          (c_attn): Conv1D()\n",
       "          (c_proj): Conv1D()\n",
       "          (attn_dropout): Dropout(p=0.1, inplace=False)\n",
       "          (resid_dropout): Dropout(p=0.1, inplace=False)\n",
       "        )\n",
       "        (ln_2): ImageGPTLayerNorm()\n",
       "        (mlp): ImageGPTMLP(\n",
       "          (c_fc): Conv1D()\n",
       "          (c_proj): Conv1D()\n",
       "          (act): QuickGELUActivation()\n",
       "          (dropout): Dropout(p=0.1, inplace=False)\n",
       "        )\n",
       "      )\n",
       "    )\n",
       "    (ln_f): ImageGPTLayerNorm()\n",
       "  )\n",
       "  (score): Linear(in_features=512, out_features=1, bias=False)\n",
       ")"
      ]
     },
     "execution_count": 10,
     "metadata": {},
     "output_type": "execute_result"
    }
   ],
   "source": [
    "import torch\n",
    "\n",
    "device = torch.device(\"cuda\") if torch.cuda.is_available() else torch.device(\"cpu\")\n",
    "model.to(device)"
   ]
  },
  {
   "cell_type": "code",
   "execution_count": 11,
   "id": "c88c802f",
   "metadata": {
    "execution": {
     "iopub.execute_input": "2023-06-05T04:53:31.357543Z",
     "iopub.status.busy": "2023-06-05T04:53:31.357139Z",
     "iopub.status.idle": "2023-06-05T04:53:31.361590Z",
     "shell.execute_reply": "2023-06-05T04:53:31.360673Z"
    },
    "papermill": {
     "duration": 0.0138,
     "end_time": "2023-06-05T04:53:31.363526",
     "exception": false,
     "start_time": "2023-06-05T04:53:31.349726",
     "status": "completed"
    },
    "tags": []
   },
   "outputs": [],
   "source": [
    "import torch"
   ]
  },
  {
   "cell_type": "code",
   "execution_count": 12,
   "id": "217dbbd1",
   "metadata": {
    "execution": {
     "iopub.execute_input": "2023-06-05T04:53:31.378154Z",
     "iopub.status.busy": "2023-06-05T04:53:31.377468Z",
     "iopub.status.idle": "2023-06-05T04:53:31.391125Z",
     "shell.execute_reply": "2023-06-05T04:53:31.389976Z"
    },
    "papermill": {
     "duration": 0.02385,
     "end_time": "2023-06-05T04:53:31.393596",
     "exception": false,
     "start_time": "2023-06-05T04:53:31.369746",
     "status": "completed"
    },
    "tags": []
   },
   "outputs": [],
   "source": [
    "total_input_ids = torch.cat([i[\"input_ids\"] for i in training_processed])\n",
    "total_labels = torch.Tensor(training_labels).float()\n",
    "total_input_dict = {'input_ids':total_input_ids}"
   ]
  },
  {
   "cell_type": "code",
   "execution_count": 13,
   "id": "8aa4cdb9",
   "metadata": {
    "execution": {
     "iopub.execute_input": "2023-06-05T04:53:31.407680Z",
     "iopub.status.busy": "2023-06-05T04:53:31.407297Z",
     "iopub.status.idle": "2023-06-05T05:06:57.918751Z",
     "shell.execute_reply": "2023-06-05T05:06:57.915670Z"
    },
    "papermill": {
     "duration": 806.525433,
     "end_time": "2023-06-05T05:06:57.925361",
     "exception": false,
     "start_time": "2023-06-05T04:53:31.399928",
     "status": "completed"
    },
    "tags": []
   },
   "outputs": [
    {
     "name": "stdout",
     "output_type": "stream",
     "text": [
      "Epoch:0 Loss:0.9652937054634094\n",
      "Epoch:1 Loss:0.9772682189941406\n",
      "Epoch:2 Loss:0.89573734998703\n",
      "Epoch:3 Loss:0.8637697100639343\n",
      "Epoch:4 Loss:0.894367516040802\n",
      "Epoch:5 Loss:0.8953459858894348\n",
      "Epoch:6 Loss:0.7891213297843933\n",
      "Epoch:7 Loss:0.8180252909660339\n",
      "Epoch:8 Loss:0.813873291015625\n",
      "Epoch:9 Loss:0.7688423991203308\n"
     ]
    }
   ],
   "source": [
    "from tqdm.auto import tqdm\n",
    "model.train()\n",
    "for epoch in range(num_epochs):\n",
    "    outputs = model(**total_input_dict,labels=total_labels)\n",
    "    loss = outputs.loss\n",
    "    loss.backward()\n",
    "    optimizer.step()\n",
    "    lr_scheduler.step()\n",
    "    optimizer.zero_grad()\n",
    "    print(f\"Epoch:{epoch} Loss:{loss}\")"
   ]
  },
  {
   "cell_type": "markdown",
   "id": "41187a14",
   "metadata": {
    "papermill": {
     "duration": 0.006913,
     "end_time": "2023-06-05T05:06:57.939277",
     "exception": false,
     "start_time": "2023-06-05T05:06:57.932364",
     "status": "completed"
    },
    "tags": []
   },
   "source": [
    "# obtain updated embeddings after fine tunings, fit and predict RF classifier"
   ]
  },
  {
   "cell_type": "code",
   "execution_count": 14,
   "id": "87fd8354",
   "metadata": {
    "execution": {
     "iopub.execute_input": "2023-06-05T05:06:57.957252Z",
     "iopub.status.busy": "2023-06-05T05:06:57.956671Z",
     "iopub.status.idle": "2023-06-05T05:07:14.359071Z",
     "shell.execute_reply": "2023-06-05T05:07:14.357707Z"
    },
    "papermill": {
     "duration": 16.415642,
     "end_time": "2023-06-05T05:07:14.361960",
     "exception": false,
     "start_time": "2023-06-05T05:06:57.946318",
     "status": "completed"
    },
    "tags": []
   },
   "outputs": [],
   "source": [
    "features = []\n",
    "for i in training_processed:\n",
    "    features.append(model(**i,output_hidden_states=True).hidden_states[0].detach().numpy())\n",
    "features = [i.flatten(\"C\") for i in features]"
   ]
  },
  {
   "cell_type": "code",
   "execution_count": 15,
   "id": "32cd3b3a",
   "metadata": {
    "execution": {
     "iopub.execute_input": "2023-06-05T05:07:14.378516Z",
     "iopub.status.busy": "2023-06-05T05:07:14.378080Z",
     "iopub.status.idle": "2023-06-05T05:07:15.853861Z",
     "shell.execute_reply": "2023-06-05T05:07:15.853018Z"
    },
    "papermill": {
     "duration": 1.487077,
     "end_time": "2023-06-05T05:07:15.856566",
     "exception": false,
     "start_time": "2023-06-05T05:07:14.369489",
     "status": "completed"
    },
    "tags": []
   },
   "outputs": [],
   "source": [
    "from sklearn.ensemble import RandomForestClassifier\n",
    "\n",
    "rf_model = RandomForestClassifier(n_estimators=100, random_state=0)"
   ]
  },
  {
   "cell_type": "code",
   "execution_count": 16,
   "id": "893878ec",
   "metadata": {
    "execution": {
     "iopub.execute_input": "2023-06-05T05:07:15.874229Z",
     "iopub.status.busy": "2023-06-05T05:07:15.872947Z",
     "iopub.status.idle": "2023-06-05T05:07:16.111567Z",
     "shell.execute_reply": "2023-06-05T05:07:16.110272Z"
    },
    "papermill": {
     "duration": 0.249863,
     "end_time": "2023-06-05T05:07:16.113973",
     "exception": false,
     "start_time": "2023-06-05T05:07:15.864110",
     "status": "completed"
    },
    "tags": []
   },
   "outputs": [
    {
     "data": {
      "text/html": [
       "<style>#sk-container-id-1 {color: black;background-color: white;}#sk-container-id-1 pre{padding: 0;}#sk-container-id-1 div.sk-toggleable {background-color: white;}#sk-container-id-1 label.sk-toggleable__label {cursor: pointer;display: block;width: 100%;margin-bottom: 0;padding: 0.3em;box-sizing: border-box;text-align: center;}#sk-container-id-1 label.sk-toggleable__label-arrow:before {content: \"▸\";float: left;margin-right: 0.25em;color: #696969;}#sk-container-id-1 label.sk-toggleable__label-arrow:hover:before {color: black;}#sk-container-id-1 div.sk-estimator:hover label.sk-toggleable__label-arrow:before {color: black;}#sk-container-id-1 div.sk-toggleable__content {max-height: 0;max-width: 0;overflow: hidden;text-align: left;background-color: #f0f8ff;}#sk-container-id-1 div.sk-toggleable__content pre {margin: 0.2em;color: black;border-radius: 0.25em;background-color: #f0f8ff;}#sk-container-id-1 input.sk-toggleable__control:checked~div.sk-toggleable__content {max-height: 200px;max-width: 100%;overflow: auto;}#sk-container-id-1 input.sk-toggleable__control:checked~label.sk-toggleable__label-arrow:before {content: \"▾\";}#sk-container-id-1 div.sk-estimator input.sk-toggleable__control:checked~label.sk-toggleable__label {background-color: #d4ebff;}#sk-container-id-1 div.sk-label input.sk-toggleable__control:checked~label.sk-toggleable__label {background-color: #d4ebff;}#sk-container-id-1 input.sk-hidden--visually {border: 0;clip: rect(1px 1px 1px 1px);clip: rect(1px, 1px, 1px, 1px);height: 1px;margin: -1px;overflow: hidden;padding: 0;position: absolute;width: 1px;}#sk-container-id-1 div.sk-estimator {font-family: monospace;background-color: #f0f8ff;border: 1px dotted black;border-radius: 0.25em;box-sizing: border-box;margin-bottom: 0.5em;}#sk-container-id-1 div.sk-estimator:hover {background-color: #d4ebff;}#sk-container-id-1 div.sk-parallel-item::after {content: \"\";width: 100%;border-bottom: 1px solid gray;flex-grow: 1;}#sk-container-id-1 div.sk-label:hover label.sk-toggleable__label {background-color: #d4ebff;}#sk-container-id-1 div.sk-serial::before {content: \"\";position: absolute;border-left: 1px solid gray;box-sizing: border-box;top: 0;bottom: 0;left: 50%;z-index: 0;}#sk-container-id-1 div.sk-serial {display: flex;flex-direction: column;align-items: center;background-color: white;padding-right: 0.2em;padding-left: 0.2em;position: relative;}#sk-container-id-1 div.sk-item {position: relative;z-index: 1;}#sk-container-id-1 div.sk-parallel {display: flex;align-items: stretch;justify-content: center;background-color: white;position: relative;}#sk-container-id-1 div.sk-item::before, #sk-container-id-1 div.sk-parallel-item::before {content: \"\";position: absolute;border-left: 1px solid gray;box-sizing: border-box;top: 0;bottom: 0;left: 50%;z-index: -1;}#sk-container-id-1 div.sk-parallel-item {display: flex;flex-direction: column;z-index: 1;position: relative;background-color: white;}#sk-container-id-1 div.sk-parallel-item:first-child::after {align-self: flex-end;width: 50%;}#sk-container-id-1 div.sk-parallel-item:last-child::after {align-self: flex-start;width: 50%;}#sk-container-id-1 div.sk-parallel-item:only-child::after {width: 0;}#sk-container-id-1 div.sk-dashed-wrapped {border: 1px dashed gray;margin: 0 0.4em 0.5em 0.4em;box-sizing: border-box;padding-bottom: 0.4em;background-color: white;}#sk-container-id-1 div.sk-label label {font-family: monospace;font-weight: bold;display: inline-block;line-height: 1.2em;}#sk-container-id-1 div.sk-label-container {text-align: center;}#sk-container-id-1 div.sk-container {/* jupyter's `normalize.less` sets `[hidden] { display: none; }` but bootstrap.min.css set `[hidden] { display: none !important; }` so we also need the `!important` here to be able to override the default hidden behavior on the sphinx rendered scikit-learn.org. See: https://github.com/scikit-learn/scikit-learn/issues/21755 */display: inline-block !important;position: relative;}#sk-container-id-1 div.sk-text-repr-fallback {display: none;}</style><div id=\"sk-container-id-1\" class=\"sk-top-container\"><div class=\"sk-text-repr-fallback\"><pre>RandomForestClassifier(random_state=0)</pre><b>In a Jupyter environment, please rerun this cell to show the HTML representation or trust the notebook. <br />On GitHub, the HTML representation is unable to render, please try loading this page with nbviewer.org.</b></div><div class=\"sk-container\" hidden><div class=\"sk-item\"><div class=\"sk-estimator sk-toggleable\"><input class=\"sk-toggleable__control sk-hidden--visually\" id=\"sk-estimator-id-1\" type=\"checkbox\" checked><label for=\"sk-estimator-id-1\" class=\"sk-toggleable__label sk-toggleable__label-arrow\">RandomForestClassifier</label><div class=\"sk-toggleable__content\"><pre>RandomForestClassifier(random_state=0)</pre></div></div></div></div></div>"
      ],
      "text/plain": [
       "RandomForestClassifier(random_state=0)"
      ]
     },
     "execution_count": 16,
     "metadata": {},
     "output_type": "execute_result"
    }
   ],
   "source": [
    "rf_model.fit(features,training_labels)"
   ]
  },
  {
   "cell_type": "code",
   "execution_count": 17,
   "id": "175940b5",
   "metadata": {
    "execution": {
     "iopub.execute_input": "2023-06-05T05:07:16.131440Z",
     "iopub.status.busy": "2023-06-05T05:07:16.131017Z",
     "iopub.status.idle": "2023-06-05T05:08:22.620439Z",
     "shell.execute_reply": "2023-06-05T05:08:22.619400Z"
    },
    "papermill": {
     "duration": 66.501048,
     "end_time": "2023-06-05T05:08:22.623015",
     "exception": false,
     "start_time": "2023-06-05T05:07:16.121967",
     "status": "completed"
    },
    "tags": []
   },
   "outputs": [],
   "source": [
    "features = []\n",
    "for i in eval_processed:\n",
    "    features.append(model(**i,output_hidden_states=True).hidden_states[0].detach().numpy())\n",
    "features = [i.flatten(\"F\") for i in features]"
   ]
  },
  {
   "cell_type": "code",
   "execution_count": 18,
   "id": "8bca3403",
   "metadata": {
    "execution": {
     "iopub.execute_input": "2023-06-05T05:08:22.640479Z",
     "iopub.status.busy": "2023-06-05T05:08:22.640076Z",
     "iopub.status.idle": "2023-06-05T05:08:22.663938Z",
     "shell.execute_reply": "2023-06-05T05:08:22.662669Z"
    },
    "papermill": {
     "duration": 0.035667,
     "end_time": "2023-06-05T05:08:22.666620",
     "exception": false,
     "start_time": "2023-06-05T05:08:22.630953",
     "status": "completed"
    },
    "tags": []
   },
   "outputs": [],
   "source": [
    "outs = rf_model.predict(features)"
   ]
  },
  {
   "cell_type": "markdown",
   "id": "af2fcb2c",
   "metadata": {
    "papermill": {
     "duration": 0.006926,
     "end_time": "2023-06-05T05:08:22.680708",
     "exception": false,
     "start_time": "2023-06-05T05:08:22.673782",
     "status": "completed"
    },
    "tags": []
   },
   "source": [
    "## Obtain F1 score"
   ]
  },
  {
   "cell_type": "code",
   "execution_count": 19,
   "id": "2d5248bc",
   "metadata": {
    "execution": {
     "iopub.execute_input": "2023-06-05T05:08:22.697031Z",
     "iopub.status.busy": "2023-06-05T05:08:22.696350Z",
     "iopub.status.idle": "2023-06-05T05:08:22.701553Z",
     "shell.execute_reply": "2023-06-05T05:08:22.700442Z"
    },
    "papermill": {
     "duration": 0.015648,
     "end_time": "2023-06-05T05:08:22.703554",
     "exception": false,
     "start_time": "2023-06-05T05:08:22.687906",
     "status": "completed"
    },
    "tags": []
   },
   "outputs": [],
   "source": [
    "from sklearn.metrics import f1_score"
   ]
  },
  {
   "cell_type": "code",
   "execution_count": 20,
   "id": "e20fa4fe",
   "metadata": {
    "execution": {
     "iopub.execute_input": "2023-06-05T05:08:22.720608Z",
     "iopub.status.busy": "2023-06-05T05:08:22.719279Z",
     "iopub.status.idle": "2023-06-05T05:08:22.730899Z",
     "shell.execute_reply": "2023-06-05T05:08:22.729752Z"
    },
    "papermill": {
     "duration": 0.022349,
     "end_time": "2023-06-05T05:08:22.733101",
     "exception": false,
     "start_time": "2023-06-05T05:08:22.710752",
     "status": "completed"
    },
    "tags": []
   },
   "outputs": [
    {
     "data": {
      "text/plain": [
       "0.5333333333333333"
      ]
     },
     "execution_count": 20,
     "metadata": {},
     "output_type": "execute_result"
    }
   ],
   "source": [
    "f1_score(eval_labels,outs,average=\"weighted\")"
   ]
  }
 ],
 "metadata": {
  "kernelspec": {
   "display_name": "Python 3",
   "language": "python",
   "name": "python3"
  },
  "language_info": {
   "codemirror_mode": {
    "name": "ipython",
    "version": 3
   },
   "file_extension": ".py",
   "mimetype": "text/x-python",
   "name": "python",
   "nbconvert_exporter": "python",
   "pygments_lexer": "ipython3",
   "version": "3.10.10"
  },
  "papermill": {
   "default_parameters": {},
   "duration": 942.082848,
   "end_time": "2023-06-05T05:08:26.074501",
   "environment_variables": {},
   "exception": null,
   "input_path": "__notebook__.ipynb",
   "output_path": "__notebook__.ipynb",
   "parameters": {},
   "start_time": "2023-06-05T04:52:43.991653",
   "version": "2.4.0"
  },
  "widgets": {
   "application/vnd.jupyter.widget-state+json": {
    "state": {
     "11187ed2a1f24c11a256756bd70e179f": {
      "model_module": "@jupyter-widgets/controls",
      "model_module_version": "1.5.0",
      "model_name": "ProgressStyleModel",
      "state": {
       "_model_module": "@jupyter-widgets/controls",
       "_model_module_version": "1.5.0",
       "_model_name": "ProgressStyleModel",
       "_view_count": null,
       "_view_module": "@jupyter-widgets/base",
       "_view_module_version": "1.2.0",
       "_view_name": "StyleView",
       "bar_color": null,
       "description_width": ""
      }
     },
     "1462664c000f41f2b413bfdd16955d8f": {
      "model_module": "@jupyter-widgets/base",
      "model_module_version": "1.2.0",
      "model_name": "LayoutModel",
      "state": {
       "_model_module": "@jupyter-widgets/base",
       "_model_module_version": "1.2.0",
       "_model_name": "LayoutModel",
       "_view_count": null,
       "_view_module": "@jupyter-widgets/base",
       "_view_module_version": "1.2.0",
       "_view_name": "LayoutView",
       "align_content": null,
       "align_items": null,
       "align_self": null,
       "border": null,
       "bottom": null,
       "display": null,
       "flex": null,
       "flex_flow": null,
       "grid_area": null,
       "grid_auto_columns": null,
       "grid_auto_flow": null,
       "grid_auto_rows": null,
       "grid_column": null,
       "grid_gap": null,
       "grid_row": null,
       "grid_template_areas": null,
       "grid_template_columns": null,
       "grid_template_rows": null,
       "height": null,
       "justify_content": null,
       "justify_items": null,
       "left": null,
       "margin": null,
       "max_height": null,
       "max_width": null,
       "min_height": null,
       "min_width": null,
       "object_fit": null,
       "object_position": null,
       "order": null,
       "overflow": null,
       "overflow_x": null,
       "overflow_y": null,
       "padding": null,
       "right": null,
       "top": null,
       "visibility": null,
       "width": null
      }
     },
     "23a6af3694af444a98f3353a6f1b2868": {
      "model_module": "@jupyter-widgets/controls",
      "model_module_version": "1.5.0",
      "model_name": "HBoxModel",
      "state": {
       "_dom_classes": [],
       "_model_module": "@jupyter-widgets/controls",
       "_model_module_version": "1.5.0",
       "_model_name": "HBoxModel",
       "_view_count": null,
       "_view_module": "@jupyter-widgets/controls",
       "_view_module_version": "1.5.0",
       "_view_name": "HBoxView",
       "box_style": "",
       "children": [
        "IPY_MODEL_d800cf9b15704cc19bebf3aeef030a86",
        "IPY_MODEL_b9e47b91662c41558487c371ea4a0e8d",
        "IPY_MODEL_acc66b1e7ba64bf4927a90ac1a217478"
       ],
       "layout": "IPY_MODEL_d3732bf9e7784844805a31eb88088c09"
      }
     },
     "35f0ebe5cb744a0db128d9becf5b6987": {
      "model_module": "@jupyter-widgets/base",
      "model_module_version": "1.2.0",
      "model_name": "LayoutModel",
      "state": {
       "_model_module": "@jupyter-widgets/base",
       "_model_module_version": "1.2.0",
       "_model_name": "LayoutModel",
       "_view_count": null,
       "_view_module": "@jupyter-widgets/base",
       "_view_module_version": "1.2.0",
       "_view_name": "LayoutView",
       "align_content": null,
       "align_items": null,
       "align_self": null,
       "border": null,
       "bottom": null,
       "display": null,
       "flex": null,
       "flex_flow": null,
       "grid_area": null,
       "grid_auto_columns": null,
       "grid_auto_flow": null,
       "grid_auto_rows": null,
       "grid_column": null,
       "grid_gap": null,
       "grid_row": null,
       "grid_template_areas": null,
       "grid_template_columns": null,
       "grid_template_rows": null,
       "height": null,
       "justify_content": null,
       "justify_items": null,
       "left": null,
       "margin": null,
       "max_height": null,
       "max_width": null,
       "min_height": null,
       "min_width": null,
       "object_fit": null,
       "object_position": null,
       "order": null,
       "overflow": null,
       "overflow_x": null,
       "overflow_y": null,
       "padding": null,
       "right": null,
       "top": null,
       "visibility": null,
       "width": null
      }
     },
     "3890ec98ef1a4513a17529e5ee6ff1de": {
      "model_module": "@jupyter-widgets/base",
      "model_module_version": "1.2.0",
      "model_name": "LayoutModel",
      "state": {
       "_model_module": "@jupyter-widgets/base",
       "_model_module_version": "1.2.0",
       "_model_name": "LayoutModel",
       "_view_count": null,
       "_view_module": "@jupyter-widgets/base",
       "_view_module_version": "1.2.0",
       "_view_name": "LayoutView",
       "align_content": null,
       "align_items": null,
       "align_self": null,
       "border": null,
       "bottom": null,
       "display": null,
       "flex": null,
       "flex_flow": null,
       "grid_area": null,
       "grid_auto_columns": null,
       "grid_auto_flow": null,
       "grid_auto_rows": null,
       "grid_column": null,
       "grid_gap": null,
       "grid_row": null,
       "grid_template_areas": null,
       "grid_template_columns": null,
       "grid_template_rows": null,
       "height": null,
       "justify_content": null,
       "justify_items": null,
       "left": null,
       "margin": null,
       "max_height": null,
       "max_width": null,
       "min_height": null,
       "min_width": null,
       "object_fit": null,
       "object_position": null,
       "order": null,
       "overflow": null,
       "overflow_x": null,
       "overflow_y": null,
       "padding": null,
       "right": null,
       "top": null,
       "visibility": null,
       "width": null
      }
     },
     "3d7e1c51ca5d46f9bf8de393f6d41eea": {
      "model_module": "@jupyter-widgets/controls",
      "model_module_version": "1.5.0",
      "model_name": "FloatProgressModel",
      "state": {
       "_dom_classes": [],
       "_model_module": "@jupyter-widgets/controls",
       "_model_module_version": "1.5.0",
       "_model_name": "FloatProgressModel",
       "_view_count": null,
       "_view_module": "@jupyter-widgets/controls",
       "_view_module_version": "1.5.0",
       "_view_name": "ProgressView",
       "bar_style": "success",
       "description": "",
       "description_tooltip": null,
       "layout": "IPY_MODEL_a2d7adc0e5244e2083237c66a00f9dc9",
       "max": 47651.0,
       "min": 0.0,
       "orientation": "horizontal",
       "style": "IPY_MODEL_11187ed2a1f24c11a256756bd70e179f",
       "value": 47651.0
      }
     },
     "472fb191ae4c4b3eb0d917694fcc632b": {
      "model_module": "@jupyter-widgets/controls",
      "model_module_version": "1.5.0",
      "model_name": "DescriptionStyleModel",
      "state": {
       "_model_module": "@jupyter-widgets/controls",
       "_model_module_version": "1.5.0",
       "_model_name": "DescriptionStyleModel",
       "_view_count": null,
       "_view_module": "@jupyter-widgets/base",
       "_view_module_version": "1.2.0",
       "_view_name": "StyleView",
       "description_width": ""
      }
     },
     "5529c4d0299e4f7db06509021f482d5b": {
      "model_module": "@jupyter-widgets/base",
      "model_module_version": "1.2.0",
      "model_name": "LayoutModel",
      "state": {
       "_model_module": "@jupyter-widgets/base",
       "_model_module_version": "1.2.0",
       "_model_name": "LayoutModel",
       "_view_count": null,
       "_view_module": "@jupyter-widgets/base",
       "_view_module_version": "1.2.0",
       "_view_name": "LayoutView",
       "align_content": null,
       "align_items": null,
       "align_self": null,
       "border": null,
       "bottom": null,
       "display": null,
       "flex": null,
       "flex_flow": null,
       "grid_area": null,
       "grid_auto_columns": null,
       "grid_auto_flow": null,
       "grid_auto_rows": null,
       "grid_column": null,
       "grid_gap": null,
       "grid_row": null,
       "grid_template_areas": null,
       "grid_template_columns": null,
       "grid_template_rows": null,
       "height": null,
       "justify_content": null,
       "justify_items": null,
       "left": null,
       "margin": null,
       "max_height": null,
       "max_width": null,
       "min_height": null,
       "min_width": null,
       "object_fit": null,
       "object_position": null,
       "order": null,
       "overflow": null,
       "overflow_x": null,
       "overflow_y": null,
       "padding": null,
       "right": null,
       "top": null,
       "visibility": null,
       "width": null
      }
     },
     "5c3761f61be240e0b0e1c2175c53fdf4": {
      "model_module": "@jupyter-widgets/controls",
      "model_module_version": "1.5.0",
      "model_name": "HTMLModel",
      "state": {
       "_dom_classes": [],
       "_model_module": "@jupyter-widgets/controls",
       "_model_module_version": "1.5.0",
       "_model_name": "HTMLModel",
       "_view_count": null,
       "_view_module": "@jupyter-widgets/controls",
       "_view_module_version": "1.5.0",
       "_view_name": "HTMLView",
       "description": "",
       "description_tooltip": null,
       "layout": "IPY_MODEL_3890ec98ef1a4513a17529e5ee6ff1de",
       "placeholder": "​",
       "style": "IPY_MODEL_cd4d1c0e9f95453080c01d5d133fed6a",
       "value": " 510/510 [00:00&lt;00:00, 40.7kB/s]"
      }
     },
     "764e5dad7cff41bf8c77a56c91482622": {
      "model_module": "@jupyter-widgets/controls",
      "model_module_version": "1.5.0",
      "model_name": "DescriptionStyleModel",
      "state": {
       "_model_module": "@jupyter-widgets/controls",
       "_model_module_version": "1.5.0",
       "_model_name": "DescriptionStyleModel",
       "_view_count": null,
       "_view_module": "@jupyter-widgets/base",
       "_view_module_version": "1.2.0",
       "_view_name": "StyleView",
       "description_width": ""
      }
     },
     "781a20d55cb04ec985b08fe114ef4b77": {
      "model_module": "@jupyter-widgets/base",
      "model_module_version": "1.2.0",
      "model_name": "LayoutModel",
      "state": {
       "_model_module": "@jupyter-widgets/base",
       "_model_module_version": "1.2.0",
       "_model_name": "LayoutModel",
       "_view_count": null,
       "_view_module": "@jupyter-widgets/base",
       "_view_module_version": "1.2.0",
       "_view_name": "LayoutView",
       "align_content": null,
       "align_items": null,
       "align_self": null,
       "border": null,
       "bottom": null,
       "display": null,
       "flex": null,
       "flex_flow": null,
       "grid_area": null,
       "grid_auto_columns": null,
       "grid_auto_flow": null,
       "grid_auto_rows": null,
       "grid_column": null,
       "grid_gap": null,
       "grid_row": null,
       "grid_template_areas": null,
       "grid_template_columns": null,
       "grid_template_rows": null,
       "height": null,
       "justify_content": null,
       "justify_items": null,
       "left": null,
       "margin": null,
       "max_height": null,
       "max_width": null,
       "min_height": null,
       "min_width": null,
       "object_fit": null,
       "object_position": null,
       "order": null,
       "overflow": null,
       "overflow_x": null,
       "overflow_y": null,
       "padding": null,
       "right": null,
       "top": null,
       "visibility": null,
       "width": null
      }
     },
     "7c81fb2e1acd420d8ec75155fa4b6cef": {
      "model_module": "@jupyter-widgets/base",
      "model_module_version": "1.2.0",
      "model_name": "LayoutModel",
      "state": {
       "_model_module": "@jupyter-widgets/base",
       "_model_module_version": "1.2.0",
       "_model_name": "LayoutModel",
       "_view_count": null,
       "_view_module": "@jupyter-widgets/base",
       "_view_module_version": "1.2.0",
       "_view_name": "LayoutView",
       "align_content": null,
       "align_items": null,
       "align_self": null,
       "border": null,
       "bottom": null,
       "display": null,
       "flex": null,
       "flex_flow": null,
       "grid_area": null,
       "grid_auto_columns": null,
       "grid_auto_flow": null,
       "grid_auto_rows": null,
       "grid_column": null,
       "grid_gap": null,
       "grid_row": null,
       "grid_template_areas": null,
       "grid_template_columns": null,
       "grid_template_rows": null,
       "height": null,
       "justify_content": null,
       "justify_items": null,
       "left": null,
       "margin": null,
       "max_height": null,
       "max_width": null,
       "min_height": null,
       "min_width": null,
       "object_fit": null,
       "object_position": null,
       "order": null,
       "overflow": null,
       "overflow_x": null,
       "overflow_y": null,
       "padding": null,
       "right": null,
       "top": null,
       "visibility": null,
       "width": null
      }
     },
     "899ec459ff8140a5ae70a1293cfb8446": {
      "model_module": "@jupyter-widgets/controls",
      "model_module_version": "1.5.0",
      "model_name": "ProgressStyleModel",
      "state": {
       "_model_module": "@jupyter-widgets/controls",
       "_model_module_version": "1.5.0",
       "_model_name": "ProgressStyleModel",
       "_view_count": null,
       "_view_module": "@jupyter-widgets/base",
       "_view_module_version": "1.2.0",
       "_view_name": "StyleView",
       "bar_color": null,
       "description_width": ""
      }
     },
     "90238b60c1b140769d60fbfd56b49997": {
      "model_module": "@jupyter-widgets/controls",
      "model_module_version": "1.5.0",
      "model_name": "HBoxModel",
      "state": {
       "_dom_classes": [],
       "_model_module": "@jupyter-widgets/controls",
       "_model_module_version": "1.5.0",
       "_model_name": "HBoxModel",
       "_view_count": null,
       "_view_module": "@jupyter-widgets/controls",
       "_view_module_version": "1.5.0",
       "_view_name": "HBoxView",
       "box_style": "",
       "children": [
        "IPY_MODEL_e4081d8116d24581926880ca8d314610",
        "IPY_MODEL_3d7e1c51ca5d46f9bf8de393f6d41eea",
        "IPY_MODEL_b0730cd244f448aa91acbab8594aded6"
       ],
       "layout": "IPY_MODEL_b55c32234842494199b8171dc0f99f02"
      }
     },
     "99a5937fac604f8bbee4344edeb1cc66": {
      "model_module": "@jupyter-widgets/controls",
      "model_module_version": "1.5.0",
      "model_name": "DescriptionStyleModel",
      "state": {
       "_model_module": "@jupyter-widgets/controls",
       "_model_module_version": "1.5.0",
       "_model_name": "DescriptionStyleModel",
       "_view_count": null,
       "_view_module": "@jupyter-widgets/base",
       "_view_module_version": "1.2.0",
       "_view_name": "StyleView",
       "description_width": ""
      }
     },
     "a23ff97c8f8c48dd8600220ee36d28e2": {
      "model_module": "@jupyter-widgets/controls",
      "model_module_version": "1.5.0",
      "model_name": "DescriptionStyleModel",
      "state": {
       "_model_module": "@jupyter-widgets/controls",
       "_model_module_version": "1.5.0",
       "_model_name": "DescriptionStyleModel",
       "_view_count": null,
       "_view_module": "@jupyter-widgets/base",
       "_view_module_version": "1.2.0",
       "_view_name": "StyleView",
       "description_width": ""
      }
     },
     "a2d7adc0e5244e2083237c66a00f9dc9": {
      "model_module": "@jupyter-widgets/base",
      "model_module_version": "1.2.0",
      "model_name": "LayoutModel",
      "state": {
       "_model_module": "@jupyter-widgets/base",
       "_model_module_version": "1.2.0",
       "_model_name": "LayoutModel",
       "_view_count": null,
       "_view_module": "@jupyter-widgets/base",
       "_view_module_version": "1.2.0",
       "_view_name": "LayoutView",
       "align_content": null,
       "align_items": null,
       "align_self": null,
       "border": null,
       "bottom": null,
       "display": null,
       "flex": null,
       "flex_flow": null,
       "grid_area": null,
       "grid_auto_columns": null,
       "grid_auto_flow": null,
       "grid_auto_rows": null,
       "grid_column": null,
       "grid_gap": null,
       "grid_row": null,
       "grid_template_areas": null,
       "grid_template_columns": null,
       "grid_template_rows": null,
       "height": null,
       "justify_content": null,
       "justify_items": null,
       "left": null,
       "margin": null,
       "max_height": null,
       "max_width": null,
       "min_height": null,
       "min_width": null,
       "object_fit": null,
       "object_position": null,
       "order": null,
       "overflow": null,
       "overflow_x": null,
       "overflow_y": null,
       "padding": null,
       "right": null,
       "top": null,
       "visibility": null,
       "width": null
      }
     },
     "acc66b1e7ba64bf4927a90ac1a217478": {
      "model_module": "@jupyter-widgets/controls",
      "model_module_version": "1.5.0",
      "model_name": "HTMLModel",
      "state": {
       "_dom_classes": [],
       "_model_module": "@jupyter-widgets/controls",
       "_model_module_version": "1.5.0",
       "_model_name": "HTMLModel",
       "_view_count": null,
       "_view_module": "@jupyter-widgets/controls",
       "_view_module_version": "1.5.0",
       "_view_name": "HTMLView",
       "description": "",
       "description_tooltip": null,
       "layout": "IPY_MODEL_cdc228ace21741fba4c224577f17e27e",
       "placeholder": "​",
       "style": "IPY_MODEL_472fb191ae4c4b3eb0d917694fcc632b",
       "value": " 332M/332M [00:16&lt;00:00, 22.4MB/s]"
      }
     },
     "aed2a38e1a954032a25692edc807d345": {
      "model_module": "@jupyter-widgets/base",
      "model_module_version": "1.2.0",
      "model_name": "LayoutModel",
      "state": {
       "_model_module": "@jupyter-widgets/base",
       "_model_module_version": "1.2.0",
       "_model_name": "LayoutModel",
       "_view_count": null,
       "_view_module": "@jupyter-widgets/base",
       "_view_module_version": "1.2.0",
       "_view_name": "LayoutView",
       "align_content": null,
       "align_items": null,
       "align_self": null,
       "border": null,
       "bottom": null,
       "display": null,
       "flex": null,
       "flex_flow": null,
       "grid_area": null,
       "grid_auto_columns": null,
       "grid_auto_flow": null,
       "grid_auto_rows": null,
       "grid_column": null,
       "grid_gap": null,
       "grid_row": null,
       "grid_template_areas": null,
       "grid_template_columns": null,
       "grid_template_rows": null,
       "height": null,
       "justify_content": null,
       "justify_items": null,
       "left": null,
       "margin": null,
       "max_height": null,
       "max_width": null,
       "min_height": null,
       "min_width": null,
       "object_fit": null,
       "object_position": null,
       "order": null,
       "overflow": null,
       "overflow_x": null,
       "overflow_y": null,
       "padding": null,
       "right": null,
       "top": null,
       "visibility": null,
       "width": null
      }
     },
     "b0730cd244f448aa91acbab8594aded6": {
      "model_module": "@jupyter-widgets/controls",
      "model_module_version": "1.5.0",
      "model_name": "HTMLModel",
      "state": {
       "_dom_classes": [],
       "_model_module": "@jupyter-widgets/controls",
       "_model_module_version": "1.5.0",
       "_model_name": "HTMLModel",
       "_view_count": null,
       "_view_module": "@jupyter-widgets/controls",
       "_view_module_version": "1.5.0",
       "_view_name": "HTMLView",
       "description": "",
       "description_tooltip": null,
       "layout": "IPY_MODEL_781a20d55cb04ec985b08fe114ef4b77",
       "placeholder": "​",
       "style": "IPY_MODEL_a23ff97c8f8c48dd8600220ee36d28e2",
       "value": " 47.7k/47.7k [00:00&lt;00:00, 284kB/s]"
      }
     },
     "b55c32234842494199b8171dc0f99f02": {
      "model_module": "@jupyter-widgets/base",
      "model_module_version": "1.2.0",
      "model_name": "LayoutModel",
      "state": {
       "_model_module": "@jupyter-widgets/base",
       "_model_module_version": "1.2.0",
       "_model_name": "LayoutModel",
       "_view_count": null,
       "_view_module": "@jupyter-widgets/base",
       "_view_module_version": "1.2.0",
       "_view_name": "LayoutView",
       "align_content": null,
       "align_items": null,
       "align_self": null,
       "border": null,
       "bottom": null,
       "display": null,
       "flex": null,
       "flex_flow": null,
       "grid_area": null,
       "grid_auto_columns": null,
       "grid_auto_flow": null,
       "grid_auto_rows": null,
       "grid_column": null,
       "grid_gap": null,
       "grid_row": null,
       "grid_template_areas": null,
       "grid_template_columns": null,
       "grid_template_rows": null,
       "height": null,
       "justify_content": null,
       "justify_items": null,
       "left": null,
       "margin": null,
       "max_height": null,
       "max_width": null,
       "min_height": null,
       "min_width": null,
       "object_fit": null,
       "object_position": null,
       "order": null,
       "overflow": null,
       "overflow_x": null,
       "overflow_y": null,
       "padding": null,
       "right": null,
       "top": null,
       "visibility": null,
       "width": null
      }
     },
     "b9e47b91662c41558487c371ea4a0e8d": {
      "model_module": "@jupyter-widgets/controls",
      "model_module_version": "1.5.0",
      "model_name": "FloatProgressModel",
      "state": {
       "_dom_classes": [],
       "_model_module": "@jupyter-widgets/controls",
       "_model_module_version": "1.5.0",
       "_model_name": "FloatProgressModel",
       "_view_count": null,
       "_view_module": "@jupyter-widgets/controls",
       "_view_module_version": "1.5.0",
       "_view_name": "ProgressView",
       "bar_style": "success",
       "description": "",
       "description_tooltip": null,
       "layout": "IPY_MODEL_35f0ebe5cb744a0db128d9becf5b6987",
       "max": 331998265.0,
       "min": 0.0,
       "orientation": "horizontal",
       "style": "IPY_MODEL_899ec459ff8140a5ae70a1293cfb8446",
       "value": 331998265.0
      }
     },
     "bbef415952c44297adaaa516585f83ad": {
      "model_module": "@jupyter-widgets/controls",
      "model_module_version": "1.5.0",
      "model_name": "FloatProgressModel",
      "state": {
       "_dom_classes": [],
       "_model_module": "@jupyter-widgets/controls",
       "_model_module_version": "1.5.0",
       "_model_name": "FloatProgressModel",
       "_view_count": null,
       "_view_module": "@jupyter-widgets/controls",
       "_view_module_version": "1.5.0",
       "_view_name": "ProgressView",
       "bar_style": "success",
       "description": "",
       "description_tooltip": null,
       "layout": "IPY_MODEL_5529c4d0299e4f7db06509021f482d5b",
       "max": 510.0,
       "min": 0.0,
       "orientation": "horizontal",
       "style": "IPY_MODEL_d62e8b2aa2104d219b95e1bbacbb7ba0",
       "value": 510.0
      }
     },
     "c4269bb95ed14e46baacdee35a4263e5": {
      "model_module": "@jupyter-widgets/base",
      "model_module_version": "1.2.0",
      "model_name": "LayoutModel",
      "state": {
       "_model_module": "@jupyter-widgets/base",
       "_model_module_version": "1.2.0",
       "_model_name": "LayoutModel",
       "_view_count": null,
       "_view_module": "@jupyter-widgets/base",
       "_view_module_version": "1.2.0",
       "_view_name": "LayoutView",
       "align_content": null,
       "align_items": null,
       "align_self": null,
       "border": null,
       "bottom": null,
       "display": null,
       "flex": null,
       "flex_flow": null,
       "grid_area": null,
       "grid_auto_columns": null,
       "grid_auto_flow": null,
       "grid_auto_rows": null,
       "grid_column": null,
       "grid_gap": null,
       "grid_row": null,
       "grid_template_areas": null,
       "grid_template_columns": null,
       "grid_template_rows": null,
       "height": null,
       "justify_content": null,
       "justify_items": null,
       "left": null,
       "margin": null,
       "max_height": null,
       "max_width": null,
       "min_height": null,
       "min_width": null,
       "object_fit": null,
       "object_position": null,
       "order": null,
       "overflow": null,
       "overflow_x": null,
       "overflow_y": null,
       "padding": null,
       "right": null,
       "top": null,
       "visibility": null,
       "width": null
      }
     },
     "cd4d1c0e9f95453080c01d5d133fed6a": {
      "model_module": "@jupyter-widgets/controls",
      "model_module_version": "1.5.0",
      "model_name": "DescriptionStyleModel",
      "state": {
       "_model_module": "@jupyter-widgets/controls",
       "_model_module_version": "1.5.0",
       "_model_name": "DescriptionStyleModel",
       "_view_count": null,
       "_view_module": "@jupyter-widgets/base",
       "_view_module_version": "1.2.0",
       "_view_name": "StyleView",
       "description_width": ""
      }
     },
     "cdc228ace21741fba4c224577f17e27e": {
      "model_module": "@jupyter-widgets/base",
      "model_module_version": "1.2.0",
      "model_name": "LayoutModel",
      "state": {
       "_model_module": "@jupyter-widgets/base",
       "_model_module_version": "1.2.0",
       "_model_name": "LayoutModel",
       "_view_count": null,
       "_view_module": "@jupyter-widgets/base",
       "_view_module_version": "1.2.0",
       "_view_name": "LayoutView",
       "align_content": null,
       "align_items": null,
       "align_self": null,
       "border": null,
       "bottom": null,
       "display": null,
       "flex": null,
       "flex_flow": null,
       "grid_area": null,
       "grid_auto_columns": null,
       "grid_auto_flow": null,
       "grid_auto_rows": null,
       "grid_column": null,
       "grid_gap": null,
       "grid_row": null,
       "grid_template_areas": null,
       "grid_template_columns": null,
       "grid_template_rows": null,
       "height": null,
       "justify_content": null,
       "justify_items": null,
       "left": null,
       "margin": null,
       "max_height": null,
       "max_width": null,
       "min_height": null,
       "min_width": null,
       "object_fit": null,
       "object_position": null,
       "order": null,
       "overflow": null,
       "overflow_x": null,
       "overflow_y": null,
       "padding": null,
       "right": null,
       "top": null,
       "visibility": null,
       "width": null
      }
     },
     "d3732bf9e7784844805a31eb88088c09": {
      "model_module": "@jupyter-widgets/base",
      "model_module_version": "1.2.0",
      "model_name": "LayoutModel",
      "state": {
       "_model_module": "@jupyter-widgets/base",
       "_model_module_version": "1.2.0",
       "_model_name": "LayoutModel",
       "_view_count": null,
       "_view_module": "@jupyter-widgets/base",
       "_view_module_version": "1.2.0",
       "_view_name": "LayoutView",
       "align_content": null,
       "align_items": null,
       "align_self": null,
       "border": null,
       "bottom": null,
       "display": null,
       "flex": null,
       "flex_flow": null,
       "grid_area": null,
       "grid_auto_columns": null,
       "grid_auto_flow": null,
       "grid_auto_rows": null,
       "grid_column": null,
       "grid_gap": null,
       "grid_row": null,
       "grid_template_areas": null,
       "grid_template_columns": null,
       "grid_template_rows": null,
       "height": null,
       "justify_content": null,
       "justify_items": null,
       "left": null,
       "margin": null,
       "max_height": null,
       "max_width": null,
       "min_height": null,
       "min_width": null,
       "object_fit": null,
       "object_position": null,
       "order": null,
       "overflow": null,
       "overflow_x": null,
       "overflow_y": null,
       "padding": null,
       "right": null,
       "top": null,
       "visibility": null,
       "width": null
      }
     },
     "d62e8b2aa2104d219b95e1bbacbb7ba0": {
      "model_module": "@jupyter-widgets/controls",
      "model_module_version": "1.5.0",
      "model_name": "ProgressStyleModel",
      "state": {
       "_model_module": "@jupyter-widgets/controls",
       "_model_module_version": "1.5.0",
       "_model_name": "ProgressStyleModel",
       "_view_count": null,
       "_view_module": "@jupyter-widgets/base",
       "_view_module_version": "1.2.0",
       "_view_name": "StyleView",
       "bar_color": null,
       "description_width": ""
      }
     },
     "d800cf9b15704cc19bebf3aeef030a86": {
      "model_module": "@jupyter-widgets/controls",
      "model_module_version": "1.5.0",
      "model_name": "HTMLModel",
      "state": {
       "_dom_classes": [],
       "_model_module": "@jupyter-widgets/controls",
       "_model_module_version": "1.5.0",
       "_model_name": "HTMLModel",
       "_view_count": null,
       "_view_module": "@jupyter-widgets/controls",
       "_view_module_version": "1.5.0",
       "_view_name": "HTMLView",
       "description": "",
       "description_tooltip": null,
       "layout": "IPY_MODEL_1462664c000f41f2b413bfdd16955d8f",
       "placeholder": "​",
       "style": "IPY_MODEL_99a5937fac604f8bbee4344edeb1cc66",
       "value": "Downloading pytorch_model.bin: 100%"
      }
     },
     "db4d961a5b104ed18bf552d6b3dfafab": {
      "model_module": "@jupyter-widgets/controls",
      "model_module_version": "1.5.0",
      "model_name": "HTMLModel",
      "state": {
       "_dom_classes": [],
       "_model_module": "@jupyter-widgets/controls",
       "_model_module_version": "1.5.0",
       "_model_name": "HTMLModel",
       "_view_count": null,
       "_view_module": "@jupyter-widgets/controls",
       "_view_module_version": "1.5.0",
       "_view_name": "HTMLView",
       "description": "",
       "description_tooltip": null,
       "layout": "IPY_MODEL_c4269bb95ed14e46baacdee35a4263e5",
       "placeholder": "​",
       "style": "IPY_MODEL_f67b1347981e48b0a02188e9ff308db4",
       "value": "Downloading (…)lve/main/config.json: 100%"
      }
     },
     "de305df684ab4ba8bc9b3a27ca01f5ee": {
      "model_module": "@jupyter-widgets/controls",
      "model_module_version": "1.5.0",
      "model_name": "HBoxModel",
      "state": {
       "_dom_classes": [],
       "_model_module": "@jupyter-widgets/controls",
       "_model_module_version": "1.5.0",
       "_model_name": "HBoxModel",
       "_view_count": null,
       "_view_module": "@jupyter-widgets/controls",
       "_view_module_version": "1.5.0",
       "_view_name": "HBoxView",
       "box_style": "",
       "children": [
        "IPY_MODEL_db4d961a5b104ed18bf552d6b3dfafab",
        "IPY_MODEL_bbef415952c44297adaaa516585f83ad",
        "IPY_MODEL_5c3761f61be240e0b0e1c2175c53fdf4"
       ],
       "layout": "IPY_MODEL_7c81fb2e1acd420d8ec75155fa4b6cef"
      }
     },
     "e4081d8116d24581926880ca8d314610": {
      "model_module": "@jupyter-widgets/controls",
      "model_module_version": "1.5.0",
      "model_name": "HTMLModel",
      "state": {
       "_dom_classes": [],
       "_model_module": "@jupyter-widgets/controls",
       "_model_module_version": "1.5.0",
       "_model_name": "HTMLModel",
       "_view_count": null,
       "_view_module": "@jupyter-widgets/controls",
       "_view_module_version": "1.5.0",
       "_view_name": "HTMLView",
       "description": "",
       "description_tooltip": null,
       "layout": "IPY_MODEL_aed2a38e1a954032a25692edc807d345",
       "placeholder": "​",
       "style": "IPY_MODEL_764e5dad7cff41bf8c77a56c91482622",
       "value": "Downloading (…)rocessor_config.json: 100%"
      }
     },
     "f67b1347981e48b0a02188e9ff308db4": {
      "model_module": "@jupyter-widgets/controls",
      "model_module_version": "1.5.0",
      "model_name": "DescriptionStyleModel",
      "state": {
       "_model_module": "@jupyter-widgets/controls",
       "_model_module_version": "1.5.0",
       "_model_name": "DescriptionStyleModel",
       "_view_count": null,
       "_view_module": "@jupyter-widgets/base",
       "_view_module_version": "1.2.0",
       "_view_name": "StyleView",
       "description_width": ""
      }
     }
    },
    "version_major": 2,
    "version_minor": 0
   }
  }
 },
 "nbformat": 4,
 "nbformat_minor": 5
}
